{
 "cells": [
  {
   "cell_type": "markdown",
   "metadata": {},
   "source": [
    "## **English Football Dataset Creation (w/ Python BeautifulSoup)**"
   ]
  },
  {
   "cell_type": "markdown",
   "metadata": {},
   "source": [
    "### **Import Libraries**"
   ]
  },
  {
   "cell_type": "code",
   "execution_count": 1,
   "metadata": {},
   "outputs": [],
   "source": [
    "import requests # pip install requests\n",
    "from bs4 import BeautifulSoup as bs # pip install beautifulsoup4\n"
   ]
  },
  {
   "cell_type": "markdown",
   "metadata": {},
   "source": [
    "### **Get Club Info**"
   ]
  },
  {
   "cell_type": "code",
   "execution_count": 2,
   "metadata": {},
   "outputs": [],
   "source": [
    "def get_content_value(row_data):\n",
    "    if row_data.find(\"td\"):\n",
    "        return [td.get_text(\" \", strip=True).replace(\"\\xa0\", \" \").replace(\" \\ufeff \", \"\").replace(\"&nbsp;\", \"\") for td in row_data.find_all(\"td\")]\n",
    "    elif row_data.find(\"br\"):\n",
    "        return [text for text in row_data.stripped_strings]\n",
    "    else:\n",
    "        return row_data.get_text(\" \", strip=True).replace(\"\\xa0\", \" \").replace(\" \\ufeff \", \"\").replace(\"&nbsp;\", \"\")\n",
    "        # \\ufeff \n",
    "    \n",
    "def clean_tags(soup):\n",
    "    for tag in soup.find_all([\"sup\", \"span\"]):\n",
    "        tag.decompose()\n",
    "        \n",
    "def get_info_box(url):\n",
    "\n",
    "    r = requests.get(url)\n",
    "    soup = bs(r.content)\n",
    "    info_box = soup.find(class_=\"infobox vcard\")\n",
    "    info_rows = info_box.find_all(\"tr\")\n",
    "    \n",
    "    clean_tags(soup)\n",
    "\n",
    "    club_info = {}\n",
    "    \n",
    "    for index, row in enumerate(info_rows):\n",
    "        if index == 0:\n",
    "            continue\n",
    "        else:\n",
    "            try:\n",
    "                content_key = row.find(\"th\").get_text(\" \", strip=True)\n",
    "                content_value = get_content_value(row.find(\"td\"))\n",
    "                club_info[content_key] = content_value\n",
    "            except:\n",
    "                pass\n",
    "            \n",
    "    return club_info"
   ]
  },
  {
   "cell_type": "code",
   "execution_count": 23,
   "metadata": {},
   "outputs": [
    {
     "data": {
      "text/plain": [
       "{'Full name': '',\n",
       " 'Nickname(s)': 'The Hammers',\n",
       " 'Founded': '1970',\n",
       " 'Ground': 'The County Ground, Hamworthy',\n",
       " 'Capacity': '2,000',\n",
       " 'Chairman': 'Steve Mitchener',\n",
       " 'Manager': 'Tim Sills',\n",
       " 'League': 'Wessex League Premier Division',\n",
       " '2020–21': 'Wessex League Premier Division (season curtailed)',\n",
       " 'Website': ''}"
      ]
     },
     "execution_count": 23,
     "metadata": {},
     "output_type": "execute_result"
    }
   ],
   "source": [
    "get_info_box(\"https://en.wikipedia.org/wiki/Hamworthy_United_F.C.\")"
   ]
  },
  {
   "cell_type": "markdown",
   "metadata": {},
   "source": [
    "### **Get Club List**"
   ]
  },
  {
   "cell_type": "code",
   "execution_count": 4,
   "metadata": {},
   "outputs": [],
   "source": [
    "r = requests.get(\"https://en.wikipedia.org/wiki/List_of_football_clubs_in_England\")\n",
    "\n",
    "# Convert to a beautiful soup object\n",
    "soup = bs(r.content)\n",
    "clubs = soup.select(\".wikitable a\")\n",
    "\n",
    "base_path = \"https://en.wikipedia.org/\"\n",
    "\n",
    "club_info_list = []\n",
    "for index, club in enumerate(clubs):\n",
    "    try:\n",
    "        relative_path = club['href']\n",
    "        full_path = base_path + relative_path\n",
    "        club_name = club['title']\n",
    "            \n",
    "        club_info_list.append(get_info_box(full_path))\n",
    "            \n",
    "    except Exception as e:\n",
    "        pass\n"
   ]
  },
  {
   "cell_type": "markdown",
   "metadata": {},
   "source": [
    "### **Get Full Capacity And Seated Capacity In Integer**"
   ]
  },
  {
   "cell_type": "code",
   "execution_count": 5,
   "metadata": {},
   "outputs": [
    {
     "name": "stdout",
     "output_type": "stream",
     "text": [
      "['N/A', '3,000 (500 seated)', '1,200', 'N/A', '1,976 (196 seated)', '2,920 (150 seated)', 'N/A', '3,000 (554 seated)', '2,500 (250 seated)', '1,500', '2,500 (200 seated)', 'N/A', '3,500 (216 seated)', '6,500 (5,419 seated)', 'N/A', '23,287', '5,000 (250 seated)', 'N/A', '5,045 (1,000 seated)', '2,000 (100 seated)', '4,000 (160 seated)', '3,000 (240 seated)', 'N/A', '2,500 (256 seated)', '1,600', '4,250 (250 seated)', '2,000 (400 seated)', 'N/A', '2,000', 'N/A', '3,528 (1,006 seated)', 'N/A', 'N/A', '4,000 (120 seated)', '1,200', '3,000', 'N/A', 'N/A', '3,000 (300 seated)', '3,000 (300 seated)', '3,000 (300 seated)', '2,650 (500 seated)', '2,650 (500 seated)', '2,100 (250 seated)', '4,100 (500 seated)', '2,500 (170 seated)', 'N/A', 'N/A', 'N/A', '6,000 (375 seated)', '3,000 (300 seated)', '3,000 (300 seated)', '2,000 (260 seated)', '5,000 (2,000 seated)', '1,970 (370 seated)', '3,000 (173 seated)', 'N/A', 'N/A', 'N/A', 'N/A', '29,409', 'N/A', 'N/A', '2,004 (500 seated)', '1,500 (100 seated)', 'N/A', 'N/A', '4,525 (525 seated)', 'N/A', '2,000 (100 seated)', 'N/A', '31,367', '2,500 (180 seated)', '16,616', '1,000 (100 seated)', '4,435 (556 seated)', 'N/A', '5,000 (400 seated)', '4,500 (367 seated)', 'N/A', 'N/A', '2,500 (230 seated)', '28,723', 'N/A', '4,500 (1,700 seated)', 'N/A', '6,000 (450 seated)', '5,000', '1,000 (90 seated)', 'N/A', '2,000', '3,000', 'N/A', 'N/A', '3,500 (500 seated)', 'N/A', '4098 (600 seated)', 'N/A', 'N/A', '25,136', '3,500 (1,800 seated)', '1,800 (100 seated)', '4,222 (553 seated)', 'N/A', '1,200 (200 seated)', '17,250', '1,000 (50 seated)', 'N/A', '2,500 (128 seated)', '3,000 (740 seated)', 'N/A', '2,000 (180 seated)', '2,500 (370 seated)', 'N/A', '1,000 (100 seated)', 'N/A', 'N/A', '31,800', 'N/A', '4,000 (350 seated)', '3,000 (150 seated)', '27,000', '2,000 (200 seated)', '12,296 (3,000 seated)', 'N/A', '1,200', 'N/A', 'N/A', 'N/A', '2,000 (200 seated)', 'N/A', '5,150 (1,606 seated)', '3,500 (2017 Limit) 4,893', 'N/A', 'N/A', 'N/A', '2,500 (120 seated)', '2,500 (408 seated)', 'N/A', '2,500', '2,000 (156 seated)', '21,944', 'N/A', '6,912 (2,034 seated)', 'N/A', '4,000 (350 seated)', '3,500 (300 seated)', 'N/A', '4,000 (490 seated)', 'N/A', 'N/A', '2,500 (78 seated)', '1,976 (196 seated)', '2,000', '8,127 (4,376 seated)', 'N/A', '2,000 (150 seated)', 'N/A', '2,000 (200 seated)', '4,100 (500 seated)', 'N/A', '33,316', 'N/A', '18,202', '1,968', '5,000 (240 seated)', 'N/A', '2,100', 'N/A', '4,500 (220 seated)', 'N/A', '2,500', '27,111', 'N/A', '2,000', '5,000 (500 seated)', 'N/A', '2,000', 'N/A', '3,000 (1,300 seated)', 'N/A', '40,834', 'N/A', '7,066', '2,500', 'N/A', '5,000 (284 seated)', '3,500 (424 seated)', 'N/A', '3,000 (167 seated)', '6,500 (4,170 seated)', '10,600', 'N/A', '2,000', 'N/A', '3,000 (300 seated)', 'N/A', '2,000 (150 seated)', 'N/A', '3,700 (900 seated)', '1,200', '3,500 (250 seated)', '4,500 (550 seated)', '4,500 (550 seated)', '3,750', '2000', 'N/A', 'N/A', '1,000 (180 seated)', '3,500 (300 seated)', 'N/A', '500 (100 seated)', 'N/A', '2,000', '2,000 (240 seated)', '2,000', 'N/A', '5,000 (100 seated)', 'N/A', 'N/A', 'N/A', '10,105', 'N/A', '2,000 (102 seated)', '1,800 (160 seated)', 'N/A', '3,300', '1,450 (250 seated)', '3,770 (250 seated)', '3,893 (577 seated)', 'N/A', 'N/A', '2,000 (161 seated)', 'N/A', 'N/A', '1,200 (112 seated)', '2,500 (110 seated)', '32,609', '2,000', 'N/A', '4,000 (3,000 seats)', '2,000 (500 seated)', 'N/A', '1,000', '4,000 (160 seated)', '6,134', '1,000', 'N/A', '5,000 (1,300 seated)', 'N/A', 'N/A', '10,153', '1,000 (100 seated)', '1,500', '2,000 (150 seated)', '8,000', '25,486', 'N/A', '3000', '6,078', '2,000', '34 (4 seated)', '3,300', '4,100 (642 seated)', 'N/A', '1,855', 'N/A', '1,000', '2,000 (164 seated)', '33,597', '2,500 (150 seated)', 'N/A', 'N/A', '2,500 (370 seated)', '3,000 (350 Seated)', 'N/A', 'N/A', '15,231', '5,229 (710 seated)', '3,000 (522 seated)', '3,000 (522 seated)', '5,745', 'N/A', 'N/A', '500 (80 seated)', 'N/A', 'N/A', 'N/A', '3,000 (500 seated)', '1,500 (150 seats)', '3,500 (350 seated)', '2,500 (150 seated)', 'N/A', 'N/A', 'N/A', 'N/A', '3,000', 'N/A', 'N/A', 'N/A', 'N/A', '3,500 (160 seated)', 'N/A', '4,151 (600 seated)', '3,000 (200 Seated)', 'N/A', '5,192 (2,700 seated)', 'N/A', '4,769 (2,179 seats)', 'N/A', '2,225 (225 seated)', 'N/A', '1,990 (298 seated)', '5,500 (262 seated)', '2,000 (50 seated)', 'N/A', 'N/A', '1,500 (150 seated)', '2,000 (330 seated)', 'N/A', 'N/A', '4,525 (525 seated)', '2,500', 'N/A', 'N/A', '4,000 (1,070 seated)', 'N/A', '3,500', 'N/A', '39,414', '3,000', '8,541', 'N/A', 'N/A', '3,000 (200 seated)', '3,000', 'N/A', '3,000', '14,061 (5,830 seated)', 'N/A', '3,500 (424 seated)', 'N/A', '4,400', '2,000', 'N/A', '6,000 (350 seated)', '4,500 (450 seated & 500 covered)', '7,000 (1,712 seated)', '1,500 (50 seated)', '4,000 (300 seated)', 'N/A', '2,000 (200 seated)', 'N/A', 'N/A', '2,000 (200 seated)', 'N/A', 'N/A', '2,000 (150 seated)', '1,000', '2,000 (250 seated)', '5,327 (2,672 seated )', '4,000 (336 seated)', 'N/A', '1,000 (150 seated)', '5,141 (2,000 seated)', 'N/A', 'N/A', 'N/A', '2,000', '2,087 (490 seated)', '2,000', '3,000 (500 seated)', '19,359', '4,340 (504 seated)', '3,000 (278 seated)', 'N/A', 'N/A', '11,800', 'N/A', '11,582', 'N/A', '2,000 (250 seated)', 'N/A', '1,200', '1,350 (209 seated)', '4,000 (762 seats)', '3,000', '3,000 (200 seated)', 'N/A', 'N/A', 'N/A', '3,000 (200 seated)', 'N/A', 'N/A', '4,500 (1,000 seated)', 'N/A', '7,500 (750 seated)', '3,500 (424 seated)', 'N/A', '3,000 (250 seated)', 'N/A', '3,600 (500 seated)', 'N/A', '2,400', '1,000 (180 seated)', 'N/A', '9,031 (all seated)', '5,000 (720 seated)', 'N/A', '1,320 (255 seated)', 'N/A', '4,000', '2,500 (157 seated)', '3,000 (250 seated)', '2,000 (150 seated)', '2,000 (100 seated)', '3,150 (525 seated)', '1,200 (250 seated)', 'N/A', '1,000 (250 seated)', 'N/A', '2,000 (200 seated)', 'N/A', 'N/A', '3,500 (644 seated)', '2,000', 'N/A', 'N/A', 'N/A', '3,000', 'N/A', '1,000 (100 seated)', 'N/A', '1,200 (150 seated)', '2,500 (280 seated)', 'N/A', 'N/A', '3,500 (500 seated)', 'N/A', '3,500 (300 seated)', 'N/A', '5,000 (1,000 seated)', '3,070 (350 seated)', 'N/A', '7,858', '2,000 (113 seated)', 'N/A', '3,500 (500 seated)', 'N/A', 'N/A', '4,050 (800 seated)', 'N/A', 'N/A', '5,300 (710 seated)', 'N/A', '3,000 (200 seated)', '3,000', 'N/A', 'N/A', '2,700 (100 seated)', 'N/A', 'N/A', 'N/A', 'N/A', '6,039 (1,011 seated)', 'N/A', '3,152 (300 seated)', '2,000 (100 seated)', 'N/A', '1,990 (298 seated)', 'N/A', '5,213', 'N/A', '2,000', '3,000 (200 seated)', 'N/A', '6,500 (200 seated)', '3,000 (550 seated)', 'N/A', 'N/A', '2,000 (150 seated)', '3,587', '3,587', '2500 (256 seated)', '3,800 (1,700 seated)', '4,554', '3,000', '4,000 (200 seated)', 'N/A', 'N/A', 'N/A', 'N/A', 'N/A', 'N/A', '1,000', 'N/A', 'N/A', 'N/A', '1,800 (101 seated)', '3,500 (800 seated)', 'N/A', '500', 'N/A', 'N/A', '1,575 (150 seated)', '4,000 (270 seated)', '24,121', '25,586', '1,500 (60 seated)', 'N/A', '3,034 (500\\n seated)', 'N/A', '4,250 (530 seated)', 'N/A', '3,000 (350 seated)', 'N/A', '3,500 (216 seated)', '2,000 (50 seated)', '3,029', 'N/A', '1000', '2,050 (570 seated)', '30,311', 'N/A', '1,000', 'N/A', 'N/A', 'N/A', '2,000 (982 seated)', 'N/A', '2,000 (152 seated)', '2,400', '3,200', 'N/A', 'N/A', 'N/A', 'N/A', '6,444 (3,140 seated)', '1,500', '1,500', '2,000', 'N/A', '1,900', '8,200 (1,200 seated)', '2,000 (251 seated)', 'N/A', '3,000', '2,000 (150 seated)', '1,000 (100 seated)', '1,000 (73 seated)', 'N/A', 'N/A', '3,513 (513 seated)', 'N/A', 'N/A', '2,000', '2,000', 'N/A', '1,000 (50 seated)', 'N/A', 'N/A', 'N/A', '3,400', 'N/A', 'N/A', '37,792', '3,600', '32,261', 'N/A', '6,250 (732 seated)', '2,800 (400 seated)', '2,250 (250 seated)', '2,250 (250 seated)', 'N/A', 'N/A', '3,000', 'N/A', 'N/A', '9,271', '1,500', '10,120', '2,714 (400 seated)', '2,000', '2,000 (50 seated)', 'N/A', 'N/A', 'N/A', '69 Million', 'N/A', '53,394', '2,000', 'N/A', '1,000 (100 seated)', '3,075 (308 seated)', '1,000 (200 seated)', 'N/A', '1,500 (450 seated)', 'N/A', 'N/A', 'N/A', '1,000', '600 (123 seated)', '1,500 (250 seated)', '3,300', 'N/A', '3,000 (455 seated)', 'N/A', '10,356', 'N/A', 'N/A', 'N/A', '700', 'N/A', 'N/A', 'N/A', '4,360 (2,095 seated)', '4,000 (550 seated)', '4,200 (792 seated)', '2,000 (200 seated)', '2,800 (155 seated)', 'N/A', 'N/A', '2,000 (150 seated)', 'N/A', '2,500', '53,400', '74,140', '2,500 (300 seated)', '9,186', 'N/A', '2,100 (400 seated)', 'N/A', '2,150 (389 seated)', 'N/A', '3,000 (250 seated)', 'N/A', 'N/A', '2,400', '3,500 (424 seated)', 'N/A', 'N/A', 'N/A', '2,500 (174 seated)', 'N/A', 'N/A', '3,000 (297 seated)', '1,500 (280 seated)', '34,742', 'N/A', '2,000 (50 seated)', 'N/A', 'N/A', 'N/A', '20,146', '30,500', 'N/A', 'N/A', '4,000 (160 seated)', '1,500 (150 seated)', 'N/A', '6,476 (2,247 seated)', 'N/A', 'N/A', '4,500 (200 seated)', 'N/A', 'N/A', '2,640 (343 seated)', 'N/A', 'N/A', '1,500 (150 seated)', '1,400 (200 seated)', '3,000 (262 seated)', '3,000', 'N/A', '3,000', '2,000', '4,000 (300 seated)', '52,305', 'N/A', 'N/A', 'N/A', '2,750 (144 seated)', 'N/A', '7,850', '2,000 (100 seated)', 'N/A', 'N/A', 'N/A', '3,000 (500 seated)', 'N/A', '2,000', '2,000 (175 seated)', '1,500', 'N/A', 'N/A', 'N/A', '7,798', 'N/A', '3,075 (308 seated)', 'N/A', 'N/A', '27,359', '3,000 (100 seated)', '1,000', 'N/A', '30,446', '19,841', '4,614 (514 seated)', '4,000', 'N/A', '1,000 (160 seated)', 'N/A', '13,512', 'N/A', 'N/A', 'N/A', '1,950', 'N/A', '3,500', '12,500', '2,000', '1,688', '2,000', '1,500', '5,000', '1,425 (100 seats)', 'N/A', '2,500 (253 seated)', '3,000 (350 seated)', '1,000 (100 seats)', 'N/A', 'N/A', '1,500', 'N/A', '1,100 (550 seated)', '4,000', '2,300', '600', '2,300', '15,314', '3,000', '2,000', 'N/A', '2,000', 'N/A', '2,700 (300 seated)', '18,214', 'N/A', '3,500 (250 seated)', '1,200 ( 300 seats )', '2,500', '20,552', '1,500 (50 seated)', 'N/A', '2,500', '20,620 (currently reduced to 17,500 due to ongoing redevelopment work)', 'N/A', 'N/A', 'N/A', '3,200', '23,404', 'N/A', 'N/A', '18,439', 'N/A', 'N/A', '3,500 (350 seated)', '1,000', '1,250', '2,201 ( 221 seats )', 'N/A', '2,000', '2,500', 'N/A', '3,000 (250 seats)', 'N/A', '1,500', 'N/A', '24,161', '3,000 (316 seated)', 'N/A', 'N/A', '5,000 (250 seating)', '2,000 (100) seated', '1250 (seats 250) cover 100', 'N/A', '1,000', '1,500 (Record attendance 1,562 vs. Showbiz Team 1992)', '4,000', '10,249', 'N/A', 'N/A', '2,000', 'N/A', 'N/A', '1,500', '2,000 (300 seated)', '2,000 (250 seats)', 'N/A', '12,021', 'N/A', 'N/A', '5,000 (150 Seated)', 'N/A', '1,600', '1,530', '1,980', '1,500', 'N/A', 'N/A', '1,500', 'N/A', 'N/A', '5,106 (2,246 seated)', '5,000 (500 seated)', 'N/A', 'N/A', 'N/A', '1,950 (250 seated)', '2,500 (175 seated)', '2,833 (586 seated)', '9,088', 'N/A', 'N/A', '5,000', 'N/A', 'Unknown', 'N/A', '1,150 (150 seated)', 'N/A', 'N/A', '1,000', '600', '2,089 (250 seats)', '32,050', '34,854', 'N/A', '1,450', '2,500 (500 seated)', '2,500 (120 seated)', '1,150', 'N/A', 'N/A', 'N/A', 'N/A', '2000', '2,000 (300 Seated)', 'N/A', '1,000', '2,000', '2,000', '9,875', 'N/A', 'N/A', '1,500', 'N/A', '3,000', 'N/A', 'N/A', 'N/A', '1,000', '1,500', '2,000', 'N/A', 'N/A', '2,000 (250 seated)', '5,500', 'N/A', '~ 2,000', 'N/A', '3,500', 'N/A', '32,384', '2,000 (500 seated)', '12,492', '6,008 (1,660 seated)', '2,700 (300 seated)', 'N/A', '4,200', '2,000 (439 seated)', '800', 'N/A', '1,000', '5,007 (667 seated)', '1,000', '3,500 (200 seated)', 'N/A', 'N/A', '2,000', '5,000 (1000 seats)', '3,500 (250 Seated)', '1,000 (60 seated)', 'N/A', '4,000 (530 seated)', '600', '5,000', 'N/A', '6,500 (1,300 seated)', '2,000 (250 seated)', 'N/A', '2,000 (200 seated)', '1,500 (100 seated)', '1,500', 'N/A', '5,000 (220 seats)', 'N/A', 'N/A', '7,800', 'N/A', 'N/A', '10,852 all-seated', '2,384 (192 Seats)', '3,500 (450 seated)', '1,800 (200 seated)', '30,089', 'N/A', 'N/A', 'N/A', 'N/A', '1,500', '2,626', '2,000 (250 seated)', '2500', 'N/A', 'N/A', '1,500 (150 seated)', 'N/A', '49,000', '1,500', 'N/A', 'N/A', '2,000', '5,013 (765 seated)', 'N/A', '5,013 (765 seated)', 'N/A', 'N/A', 'N/A', '21,088', '2,900 (350 seats)', '15,721', ['2,000 Seats 159', 'Covered standing 100'], '1,000', '2,000', '4,963 (518 seated)', '2,500', '2,000 (200 seated)', '2,000', 'N/A', '3,000', 'N/A', '2,500', '2,500', 'N/A', 'N/A', 'N/A', '5,000', 'N/A', '1,500', 'N/A', '4,000 (350 seated)', 'N/A', '3,500 (520 seated)', '2,800', '3,000 (inc 760 seats)', '3,500 (612 seated)', 'N/A', '3,500 (612 seated)', 'N/A', '6,200 (3,092 seated)', 'N/A', 'N/A', '62,850', '1,500', '3,000', 'N/A', '2,500', '16,567', '2,000 (125 seated)', '3,500 (250 seated)', '1,000 (200 seats, 300 covered standing)', '3,750 (250 seated)', 'N/A', 'N/A', '2,500 (150 seated)', 'N/A', '3,770', 'N/A', '3,300 – 350 seated', '1180', 'N/A', 'N/A', 'N/A', 'N/A', '1,500', '11,300', 'N/A', 'N/A', '550', 'N/A', '2,500', '2,500', '1,500', '3,300', 'N/A', '1345', '2,550', 'N/A', '22,200', '4,085 (709 seated)', 'N/A', 'N/A', '4,000 (1,000 seated)', 'N/A', '2140 (290 seated)', '1,000', '1,500 (200 seated)', '1,500', '2,400 (100 seated)', '3000', '2,450', '1,000', '1,500', '2,000 (75 seating)', '1,000', '26,688', '1,000', 'N/A', '60,000', 'N/A', '1,499', 'N/A', '2,000', '3,500 (350 seated)', 'N/A', '6,600 (900 seated)', '4,000', '3,500, 505 covered seats', 'N/A', '1,500', '3,000 (250 seated)', '3,126', 'N/A', '4,500', '3,000', 'N/A', 'N/A', '1,000', '2000', '13,350', '25,138', '1,000', 'N/A', '3,250 (275 seated & 150 covered) note theoretical, likely to be estimated at 2,800', 'N/A', '4,500 (180 seated)', '4,500 (450 seated)', '1,500 (500 seated)', 'N/A', '3,000 (200 seated)', '2,000 (100 Seated)', 'N/A', 'N/A', 'N/A', '1,118', '2,500 (250 seated)', 'N/A', '4,813', '2,876 (161 seated)', '6,036 (2,500 seated)', 'N/A', 'N/A', 'N/A', '32,050', '3,000 (50 seated)', 'N/A', '2,000', 'TBC', 'N/A', '3,101 (500 seated)', '2,500 (200 seats)', '500', '2,000 (175 seated)', 'N/A', '4,000', 'N/A', '1,504', '10,771', '2,500 (50 seated)', '9,558', 'N/A', 'N/A', '2,000 (236 seated)', '1,000 (150 seated)', '9,565 (5,212 seated)', '8,500', '1,550 (200 seated)', '3,000 (271 seated)', 'N/A', 'N/A', '8,200 (1,200 seated)', 'N/A', 'N/A', 'N/A', 'N/A', 'N/A']\n"
     ]
    }
   ],
   "source": [
    "print([club.get('Capacity', 'N/A') for club in club_info_list])"
   ]
  },
  {
   "cell_type": "code",
   "execution_count": 6,
   "metadata": {},
   "outputs": [],
   "source": [
    "from re import search"
   ]
  },
  {
   "cell_type": "code",
   "execution_count": 42,
   "metadata": {},
   "outputs": [],
   "source": [
    "def full_capacity_to_integer(capacity):\n",
    "    if capacity == None:\n",
    "        full_capacity = None\n",
    "    else:\n",
    "        full_capacity_list = capacity.split(\" \")\n",
    "        full_capacity = int(full_capacity_list[0].replace(\",\",\"\"))\n",
    "    \n",
    "    return full_capacity\n",
    "\n",
    "def seated_capacity_to_integer(capacity):\n",
    "    if capacity == None:\n",
    "        seated_capacity = None\n",
    "    else:\n",
    "        if search(\" \", capacity):\n",
    "            seated_capacity_list = capacity.split(\" \")\n",
    "            seated_capacity = int(seated_capacity_list[1].replace(\",\",\"\").replace(\"(\",\"\"))\n",
    "        else:\n",
    "            seated_capacity = None\n",
    "    \n",
    "    return seated_capacity\n",
    "\n"
   ]
  },
  {
   "cell_type": "code",
   "execution_count": 43,
   "metadata": {},
   "outputs": [],
   "source": [
    "for club in club_info_list:\n",
    "    try:\n",
    "        club['Full Capacity'] = full_capacity_to_integer(club.get('Capacity', \"N/A\"))\n",
    "        club['Seated Capacity'] = seated_capacity_to_integer(club.get('Capacity', \"N/A\"))\n",
    "    except:\n",
    "        pass"
   ]
  },
  {
   "cell_type": "code",
   "execution_count": 44,
   "metadata": {},
   "outputs": [
    {
     "name": "stdout",
     "output_type": "stream",
     "text": [
      "[None, 500, None, None, 196, 150, None, 554, 250, None, 200, None, 216, 5419, None, None, 250, None, 1000, 100, 160, 240, None, 256, None, 250, 400, None, None, None, 1006, None, None, 120, None, None, None, None, 300, 300, 300, 500, 500, 250, 500, 170, None, None, None, 375, 300, 300, 260, 2000, 370, 173, None, None, None, None, None, None, None, 500, 100, None, None, 525, None, 100, None, None, 180, None, 100, 556, None, 400, 367, None, None, 230, None, None, 1700, None, 450, None, 90, None, None, None, None, None, 500, None, 600, None, None, None, 1800, 100, 553, None, 200, None, 50, None, 128, 740, None, 180, 370, None, 100, None, None, None, None, 350, 150, None, 200, 3000, None, None, None, None, None, 200, None, 1606, 2017, None, None, None, 120, 408, None, None, 156, None, None, 2034, None, 350, 300, None, 490, None, None, 78, 196, None, 4376, None, 150, None, 200, 500, None, None, None, None, None, 240, None, None, None, 220, None, None, None, None, None, 500, None, None, None, 1300, None, None, None, None, None, None, 284, 424, None, 167, 4170, None, None, None, None, 300, None, 150, None, 900, None, 250, 550, 550, None, None, None, None, 180, 300, None, 100, None, None, 240, None, None, 100, None, None, None, None, None, 102, 160, None, None, 250, 250, 577, None, None, 161, None, None, 112, 110, None, None, None, 3000, 500, None, None, 160, None, None, None, 1300, None, None, None, 100, None, 150, None, None, None, None, None, None, 4, None, 642, None, None, None, None, 164, None, 150, None, None, 370, 350, None, None, None, 710, 522, 522, None, None, None, 80, None, None, None, 500, 150, 350, 150, None, None, None, None, None, None, None, None, None, 160, None, 600, 200, None, 2700, None, 2179, None, 225, None, 298, 262, 50, None, None, 150, 330, None, None, 525, None, None, None, 1070, None, None, None, None, None, None, None, None, 200, None, None, None, 5830, None, 424, None, None, None, None, 350, 450, 1712, 50, 300, None, 200, None, None, 200, None, None, 150, None, 250, 2672, 336, None, 150, 2000, None, None, None, None, 490, None, 500, None, 504, 278, None, None, None, None, None, None, 250, None, None, 209, 762, None, 200, None, None, None, 200, None, None, 1000, None, 750, 424, None, 250, None, 500, None, None, 180, None, 'all', 720, None, 255, None, None, 157, 250, 150, 100, 525, 250, None, 250, None, 200, None, None, 644, None, None, None, None, None, None, 100, None, 150, 280, None, None, 500, None, 300, None, 1000, 350, None, None, 113, None, 500, None, None, 800, None, None, 710, None, 200, None, None, None, 100, None, None, None, None, 1011, None, 300, 100, None, 298, None, None, None, None, 200, None, 200, 550, None, None, 150, None, None, 256, 1700, None, None, 200, None, None, None, None, None, None, None, None, None, None, 101, 800, None, None, None, None, 150, 270, None, None, 60, None, 500, None, 530, None, 350, None, 216, 50, None, None, None, 570, None, None, None, None, None, None, 982, None, 152, None, None, None, None, None, None, 3140, None, None, None, None, None, 1200, 251, None, None, 150, 100, 73, None, None, 513, None, None, None, None, None, 50, None, None, None, None, None, None, None, None, None, None, 732, 400, 250, 250, None, None, None, None, None, None, None, None, 400, None, 50, None, None, None, 'Million', None, None, None, None, 100, 308, 200, None, 450, None, None, None, None, 123, 250, None, None, 455, None, None, None, None, None, None, None, None, None, 2095, 550, 792, 200, 155, None, None, 150, None, None, None, None, 300, None, None, 400, None, 389, None, 250, None, None, None, 424, None, None, None, 174, None, None, 297, 280, None, None, 50, None, None, None, None, None, None, None, 160, 150, None, 2247, None, None, 200, None, None, 343, None, None, 150, 200, 262, None, None, None, None, 300, None, None, None, None, 144, None, None, 100, None, None, None, 500, None, None, 175, None, None, None, None, None, None, 308, None, None, None, 100, None, None, None, None, 514, None, None, 160, None, None, None, None, None, None, None, None, None, None, None, None, None, None, 100, None, 253, 350, 100, None, None, None, None, 550, None, None, None, None, None, None, None, None, None, None, 300, None, None, 250, '', None, None, 50, None, None, 'currently', None, None, None, None, None, None, None, None, None, None, 350, None, None, '', None, None, None, None, 250, None, None, None, None, 316, None, None, 250, '100)', 'seats', None, None, 'Record', None, None, None, None, None, None, None, None, 300, 250, None, None, None, None, 150, None, None, None, None, None, None, None, None, None, None, 2246, 500, None, None, None, 250, 175, 586, None, None, None, None, None, None, None, 150, None, None, None, None, 250, None, None, None, None, 500, 120, None, None, None, None, None, None, 300, None, None, None, None, None, None, None, None, None, None, None, None, None, None, None, None, None, None, 250, None, None, '2000', None, None, None, None, 500, None, 1660, 300, None, None, 439, None, None, None, 667, None, 200, None, None, None, 1000, 250, 60, None, 530, None, None, None, 1300, 250, None, 200, 100, None, None, 220, None, None, None, None, None, 'all-seated', 192, 450, 200, None, None, None, None, None, None, None, 250, None, None, None, 150, None, None, None, None, None, None, 765, None, 765, None, None, None, None, 350, None, 'N/A', None, None, 518, None, 200, None, None, None, None, None, None, None, None, None, None, None, None, None, 350, None, 520, None, 'inc', 612, None, 612, None, 3092, None, None, None, None, None, None, None, None, 125, 250, 200, 250, None, None, 150, None, None, None, '–', None, None, None, None, None, None, None, None, None, None, None, None, None, None, None, None, None, None, None, None, 709, None, None, 1000, None, 290, None, 200, None, 100, None, None, None, None, 75, None, None, None, None, None, None, None, None, None, 350, None, 900, None, 505, None, None, 250, None, None, None, None, None, None, None, None, None, None, None, None, 275, None, 180, 450, 500, None, 200, 100, None, None, None, None, 250, None, None, 161, 2500, None, None, None, None, 50, None, None, None, None, 500, 200, None, 175, None, None, None, None, None, 50, None, None, None, 236, 150, 5212, None, 200, 271, None, None, 1200, None, None, None, None, None]\n"
     ]
    }
   ],
   "source": [
    "print([club.get('Seated Capacity', 'N/A') for club in club_info_list])"
   ]
  },
  {
   "cell_type": "markdown",
   "metadata": {},
   "source": [
    "### **Save/Reload Club Info**"
   ]
  },
  {
   "cell_type": "code",
   "execution_count": 19,
   "metadata": {},
   "outputs": [],
   "source": [
    "import json"
   ]
  },
  {
   "cell_type": "code",
   "execution_count": 20,
   "metadata": {},
   "outputs": [],
   "source": [
    "def save_data(title, data):\n",
    "    with open(title, 'w', encoding='utf-8') as f:\n",
    "        json.dump(data, f, ensure_ascii=False, indent=2)"
   ]
  },
  {
   "cell_type": "code",
   "execution_count": 21,
   "metadata": {},
   "outputs": [],
   "source": [
    "def load_data(title):\n",
    "    with open(title, encoding=\"utf-8\") as f:\n",
    "        return json.load(f)"
   ]
  },
  {
   "cell_type": "code",
   "execution_count": 22,
   "metadata": {},
   "outputs": [],
   "source": [
    "save_data(\"club_data_cleaned.json\", club_info_list)"
   ]
  },
  {
   "cell_type": "code",
   "execution_count": null,
   "metadata": {},
   "outputs": [],
   "source": []
  },
  {
   "cell_type": "code",
   "execution_count": null,
   "metadata": {},
   "outputs": [],
   "source": []
  },
  {
   "cell_type": "code",
   "execution_count": null,
   "metadata": {},
   "outputs": [],
   "source": []
  },
  {
   "cell_type": "code",
   "execution_count": null,
   "metadata": {},
   "outputs": [],
   "source": []
  },
  {
   "cell_type": "markdown",
   "metadata": {},
   "source": []
  }
 ],
 "metadata": {
  "interpreter": {
   "hash": "31f2aee4e71d21fbe5cf8b01ff0e069b9275f58929596ceb00d14d90e3e16cd6"
  },
  "kernelspec": {
   "display_name": "Python 3.8.9 64-bit",
   "language": "python",
   "name": "python3"
  },
  "language_info": {
   "codemirror_mode": {
    "name": "ipython",
    "version": 3
   },
   "file_extension": ".py",
   "mimetype": "text/x-python",
   "name": "python",
   "nbconvert_exporter": "python",
   "pygments_lexer": "ipython3",
   "version": "3.8.9"
  },
  "orig_nbformat": 4
 },
 "nbformat": 4,
 "nbformat_minor": 2
}
